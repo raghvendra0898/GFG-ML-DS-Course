{
 "cells": [
  {
   "cell_type": "markdown",
   "metadata": {},
   "source": [
    "numpy random - numpy.random.random() is one of the function for doing random sampling in numpy. It returns an array of specified shape and fills it with random floats in the half-open interval[0.0.1.0).\n",
    "\n",
    "SYNTAX : numpy.random.random(size=None)"
   ]
  },
  {
   "cell_type": "code",
   "execution_count": 2,
   "metadata": {},
   "outputs": [
    {
     "name": "stdout",
     "output_type": "stream",
     "text": [
      "Output 1D array filled with random floats :  [0.90270565 0.12284693 0.4463925 ]\n",
      "Output 2D array filled with float numbers :  [[0.20316395 0.64569715]\n",
      " [0.15964137 0.2020266 ]]\n"
     ]
    }
   ],
   "source": [
    "import numpy as np\n",
    "arr = np.random.random(3)\n",
    "print(\"Output 1D array filled with random floats : \",arr)\n",
    "arr1 = np.random.random([2,2])\n",
    "print(\"Output 2D array filled with float numbers : \",arr1)"
   ]
  },
  {
   "cell_type": "markdown",
   "metadata": {},
   "source": [
    "Numpy arange - The arange([start,] stop[,step,][,dtype]) returns an array with evenly spaced elements as per the interval. The interval mentioned is half-opened."
   ]
  },
  {
   "cell_type": "code",
   "execution_count": 6,
   "metadata": {},
   "outputs": [
    {
     "name": "stdout",
     "output_type": "stream",
     "text": [
      "A\n",
      " [[0 1]\n",
      " [2 3]] \n",
      "\n",
      "A\n",
      " [3 5] \n",
      "\n"
     ]
    }
   ],
   "source": [
    "print(\"A\\n\", np.arange(4).reshape(2,2), \"\\n\")\n",
    "print(\"A\\n\", np.arange(3,8,2.7,int), \"\\n\")"
   ]
  },
  {
   "cell_type": "markdown",
   "metadata": {},
   "source": [
    "Numpy linspace - The numpy.linspace() function returns number spaces evenly with respect to interval. In case of steps, it uses sample number.\n",
    "\n",
    "SYNTAX : numpy.linspace(start, stop, num = 50, endpoint = True, retstep = False, dtype = None)\n",
    "\n",
    "Parameters :\n",
    "restep: If True, return (samples,step). By default restep = False\n",
    "num : number of samples to generate\n",
    "dtype : type of output array"
   ]
  },
  {
   "cell_type": "code",
   "execution_count": 7,
   "metadata": {},
   "outputs": [
    {
     "name": "stdout",
     "output_type": "stream",
     "text": [
      "[0.         0.22222222 0.44444444 0.66666667 0.88888889 1.11111111\n",
      " 1.33333333 1.55555556 1.77777778 2.        ]\n"
     ]
    }
   ],
   "source": [
    "print(np.linspace(0,2,10))"
   ]
  },
  {
   "cell_type": "markdown",
   "metadata": {},
   "source": [
    "Numpy reshape - The numpy.reshape() function shapes an array without changing the data of the array.\n",
    "\n",
    "SYNTAX : numpy.reshape(array, shape, order='C')"
   ]
  },
  {
   "cell_type": "code",
   "execution_count": 8,
   "metadata": {},
   "outputs": [
    {
     "name": "stdout",
     "output_type": "stream",
     "text": [
      "A\n",
      " [0 1 2 3] \n",
      "\n",
      "A\n",
      " [[0 1]\n",
      " [2 3]] \n",
      "\n"
     ]
    }
   ],
   "source": [
    "print(\"A\\n\", np.arange(4), \"\\n\")\n",
    "print(\"A\\n\", np.arange(4).reshape(2,2), \"\\n\")"
   ]
  }
 ],
 "metadata": {
  "kernelspec": {
   "display_name": "Python 3",
   "language": "python",
   "name": "python3"
  },
  "language_info": {
   "codemirror_mode": {
    "name": "ipython",
    "version": 3
   },
   "file_extension": ".py",
   "mimetype": "text/x-python",
   "name": "python",
   "nbconvert_exporter": "python",
   "pygments_lexer": "ipython3",
   "version": "3.0.0"
  }
 },
 "nbformat": 4,
 "nbformat_minor": 2
}
