{
 "cells": [
  {
   "cell_type": "markdown",
   "metadata": {},
   "source": [
    "-Numpy achieves its fast implementation using vectorization.\n",
    "-In numpy arrays developer can perform the same mathematical operation on every element with a single command."
   ]
  },
  {
   "cell_type": "code",
   "execution_count": 14,
   "metadata": {},
   "outputs": [
    {
     "name": "stdout",
     "output_type": "stream",
     "text": [
      "Requirement already satisfied: numpy in /home/codespace/.local/lib/python3.10/site-packages (1.26.4)\n",
      "Note: you may need to restart the kernel to use updated packages.\n"
     ]
    }
   ],
   "source": [
    "%pip install numpy\n"
   ]
  },
  {
   "cell_type": "code",
   "execution_count": 13,
   "metadata": {},
   "outputs": [
    {
     "name": "stdout",
     "output_type": "stream",
     "text": [
      "[ 7 11 10 16]\n"
     ]
    }
   ],
   "source": [
    "import numpy as np\n",
    "a = np.array([2,8,6,9])\n",
    "b = np.array([5,3,4,7])\n",
    "\n",
    "# add_ans = a + b\n",
    "# print(add_ans)\n",
    "\n",
    "# add_ans = np.add(a,b)\n",
    "# print(add_ans)\n",
    "\n",
    "c= np.array([1,5,8,9])\n",
    "add_ans1 = np.add(a,b,c)\n",
    "print(add_ans1)"
   ]
  },
  {
   "cell_type": "code",
   "execution_count": null,
   "metadata": {},
   "outputs": [],
   "source": []
  }
 ],
 "metadata": {
  "kernelspec": {
   "display_name": "Python 3",
   "language": "python",
   "name": "python3"
  },
  "language_info": {
   "codemirror_mode": {
    "name": "ipython",
    "version": 3
   },
   "file_extension": ".py",
   "mimetype": "text/x-python",
   "name": "python",
   "nbconvert_exporter": "python",
   "pygments_lexer": "ipython3",
   "version": "3.10.13"
  }
 },
 "nbformat": 4,
 "nbformat_minor": 2
}
