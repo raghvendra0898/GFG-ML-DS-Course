{
 "cells": [
  {
   "cell_type": "markdown",
   "metadata": {},
   "source": [
    "-Numpy achieves its fast implementation using vectorization.\n",
    "-In numpy arrays developer can perform the same mathematical operation on every element with a single command."
   ]
  },
  {
   "cell_type": "code",
   "execution_count": 14,
   "metadata": {},
   "outputs": [
    {
     "name": "stdout",
     "output_type": "stream",
     "text": [
      "Requirement already satisfied: numpy in /home/codespace/.local/lib/python3.10/site-packages (1.26.4)\n",
      "Note: you may need to restart the kernel to use updated packages.\n"
     ]
    }
   ],
   "source": [
    "%pip install numpy\n"
   ]
  },
  {
   "cell_type": "code",
   "execution_count": 6,
   "metadata": {},
   "outputs": [
    {
     "name": "stdout",
     "output_type": "stream",
     "text": [
      "[ 6  8 12 16]\n",
      "[-3  5  2  2]\n",
      "[ 5 15 32 63]\n",
      "[2.   1.6  0.75 1.  ]\n"
     ]
    }
   ],
   "source": [
    "import numpy as np\n",
    "a = np.array([2,8,6,9])\n",
    "b = np.array([5,3,4,7])\n",
    "\n",
    "# add_ans = a + b\n",
    "# print(add_ans)\n",
    "\n",
    "# add_ans = np.add(a,b)\n",
    "# print(add_ans)\n",
    "\n",
    "c= np.array([1,5,8,9])\n",
    "add_ans1 = np.add(b,c)\n",
    "print(add_ans1)\n",
    "\n",
    "sub_ans = np.subtract(a,b)\n",
    "print(sub_ans)\n",
    "\n",
    "mul_ans = np.multiply(b,c)\n",
    "print(mul_ans)\n",
    "\n",
    "div_ans = np.divide(a,c)\n",
    "print(div_ans)"
   ]
  },
  {
   "cell_type": "markdown",
   "metadata": {},
   "source": [
    "-> numpy.max() - returns the maximum element of the given array\n",
    "\n",
    "-> numpy.min() - returns the minimum element of the given array\n",
    "\n",
    "-> numpy.max(arr,0) - here 0 will give us a list containing the maximum values from each column.\n",
    "\n",
    "-> numpy.max(arr,1) - here 1 will give us a list containing the maximum values from each row."
   ]
  },
  {
   "cell_type": "code",
   "execution_count": 9,
   "metadata": {},
   "outputs": [
    {
     "name": "stdout",
     "output_type": "stream",
     "text": [
      "9\n",
      "1\n",
      "maximum elements in the column are : [8 8 9 9]\n",
      "maximum elements in the row are : [6 9 9]\n",
      "minimum elements in the column are : [1 2 6 5]\n",
      "minimum elements in the row are : [1 5 2]\n"
     ]
    }
   ],
   "source": [
    "import numpy as np\n",
    "arr = np.array([[1,2,6,5],\n",
    "                   [5,8,9,7],\n",
    "                   [8,2,6,9]])\n",
    "\n",
    "max_element = np.max(arr)\n",
    "min_element = np.min(arr)\n",
    "print(max_element)\n",
    "print(min_element)\n",
    "\n",
    "max_element_column = np.max(arr,0)\n",
    "min_element_column = np.min(arr,0)\n",
    "\n",
    "max_element_row = np.max(arr,1)\n",
    "min_element_row = np.min(arr,1)\n",
    "\n",
    "print(\"maximum elements in the column are :\",max_element_column)\n",
    "print(\"maximum elements in the row are :\",max_element_row)\n",
    "print(\"minimum elements in the column are :\",min_element_column)\n",
    "print(\"minimum elements in the row are :\",min_element_row)"
   ]
  }
 ],
 "metadata": {
  "kernelspec": {
   "display_name": "Python 3",
   "language": "python",
   "name": "python3"
  },
  "language_info": {
   "codemirror_mode": {
    "name": "ipython",
    "version": 3
   },
   "file_extension": ".py",
   "mimetype": "text/x-python",
   "name": "python",
   "nbconvert_exporter": "python",
   "pygments_lexer": "ipython3",
   "version": "3.10.13"
  }
 },
 "nbformat": 4,
 "nbformat_minor": 2
}
