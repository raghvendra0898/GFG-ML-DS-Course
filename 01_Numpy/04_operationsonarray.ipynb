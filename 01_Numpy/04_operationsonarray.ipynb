{
 "cells": [
  {
   "cell_type": "markdown",
   "metadata": {},
   "source": [
    "Sort a Numpy array using the sort()"
   ]
  },
  {
   "cell_type": "code",
   "execution_count": 4,
   "metadata": {},
   "outputs": [
    {
     "name": "stdout",
     "output_type": "stream",
     "text": [
      "Along the first axis : \n",
      " [[ 5 12]\n",
      " [15 25]]\n",
      "Along the last axis :\n",
      " [[12 15]\n",
      " [ 5 25]]\n",
      "Along the none : \n",
      " [ 5 12 15 25]\n"
     ]
    }
   ],
   "source": [
    "import numpy as np\n",
    "a = np.array([[15,12],[5,25]])\n",
    "\n",
    "#sort along the first axis\n",
    "arr1 = np.sort(a, axis = 0)\n",
    "print(\"Along the first axis : \\n\", arr1)\n",
    "\n",
    "#sort along the last axis\n",
    "arr2 = np.sort(a, axis= -1)\n",
    "print(\"Along the last axis :\\n\", arr2)\n",
    "\n",
    "#sort along none axis\n",
    "arr3= np.sort(a, axis=None)\n",
    "print(\"Along the none : \\n\",arr3)"
   ]
  },
  {
   "cell_type": "markdown",
   "metadata": {},
   "source": [
    "We can also choose which type of sorting we want to perform using the kind parameter inside the sort function. We can either choose quicksort, mergesort and heapsort."
   ]
  },
  {
   "cell_type": "code",
   "execution_count": 7,
   "metadata": {},
   "outputs": [
    {
     "name": "stdout",
     "output_type": "stream",
     "text": [
      "[[3 5 6 7 7 9]\n",
      " [2 5 6 6 8 9]]\n"
     ]
    }
   ],
   "source": [
    "arr = np.array([[7,3,6,9,7,5],[6,9,5,8,2,6]])\n",
    "print(np.sort(arr, axis = -1, kind = 'mergesort'))"
   ]
  },
  {
   "cell_type": "markdown",
   "metadata": {},
   "source": [
    "# Array Merging"
   ]
  },
  {
   "cell_type": "markdown",
   "metadata": {},
   "source": [
    "-> numpy.vstack() - is used to stack the sequence of input arrays vertically to make a single array.\n",
    "\n",
    "SYNTAX : numpy.vstack(tup)\n",
    "\n",
    "-> numpy.hstack() - is used to stack the sequence fo input arrays horizontally(i.e. column wise) to make a single array.\n",
    "\n",
    "SYNTAX : numpy.hstack(tup)\n",
    "\n",
    "-> numpy.concatenate() - function concatenate a sequence of arrays along an existing axis.\n",
    "\n",
    "SYNTAX : numpy.concatenate((arr1,arr2,...), axis=0, out=None)"
   ]
  },
  {
   "cell_type": "code",
   "execution_count": 15,
   "metadata": {},
   "outputs": [
    {
     "name": "stdout",
     "output_type": "stream",
     "text": [
      "Vertically Stacked arrays : \n",
      " [[ 1  2  3  1]\n",
      " [ 5  6  4  7]\n",
      " [ 5  4  3  8]\n",
      " [55 78 32  6]]\n",
      "Horizontally Stacked arrays : \n",
      " [[ 1  2  3  1  5  4  3  8]\n",
      " [ 5  6  4  7 55 78 32  6]]\n",
      "[[ 1  2  3  1]\n",
      " [ 5  6  4  7]\n",
      " [ 5  4  3  8]\n",
      " [55 78 32  6]]\n"
     ]
    }
   ],
   "source": [
    "import numpy as np\n",
    "\n",
    "arr1 = np.array([[1,2,3,1],[5,6,4,7]])\n",
    "arr2 = np.array([[5,4,3,8],[55,78,32,6]])\n",
    "vstack_arr = np.vstack((arr1, arr2))\n",
    "hstack_arr = np.hstack((arr1, arr2))\n",
    "print(\"Vertically Stacked arrays : \\n\",vstack_arr)\n",
    "print(\"Horizontally Stacked arrays : \\n\",hstack_arr)\n",
    "\n",
    "gfg = np.concatenate((arr1,arr2),axis = 0)\n",
    "print(gfg)\n"
   ]
  },
  {
   "cell_type": "markdown",
   "metadata": {},
   "source": [
    "# Splitting Arrays"
   ]
  },
  {
   "cell_type": "markdown",
   "metadata": {},
   "source": [
    "-> numpy.vsplit() - this function split an array into multiple sub-arrays vertically(row-wise). vsplit is equivalent to split with axis=0, the array is always split along the axis regardless of the array dimension.\n",
    "\n",
    "SYNTAX : numpy.vsplit(arr, indices_or_sections)\n",
    "\n",
    "-> numpy.hsplit() - function split an array into multiple sub-arrays horizontally (column-wise). hsplit is equivalent to split with axis=1, the array is always split along the second axis regardless of the array dimension.\n",
    "\n",
    "SYNTAX : numpy.hsplit(arr, indices_or_sections)"
   ]
  },
  {
   "cell_type": "code",
   "execution_count": 17,
   "metadata": {},
   "outputs": [
    {
     "name": "stdout",
     "output_type": "stream",
     "text": [
      "[array([[1, 2],\n",
      "       [5, 6]]), array([[3, 1],\n",
      "       [4, 7]])]\n",
      "[array([[1, 2, 3, 1]]), array([[5, 6, 4, 7]])]\n"
     ]
    }
   ],
   "source": [
    "arr1 = np.array([[1,2,3,1],[5,6,4,7]])\n",
    "arr2 = np.array([[5,4,3,8],[55,78,32,6]])\n",
    "\n",
    "gfg1 = np.hsplit(arr1, 2)\n",
    "print(gfg1)\n",
    "\n",
    "gfg2 = np.vsplit(arr1,2)\n",
    "print(gfg2)"
   ]
  }
 ],
 "metadata": {
  "kernelspec": {
   "display_name": "Python 3",
   "language": "python",
   "name": "python3"
  },
  "language_info": {
   "codemirror_mode": {
    "name": "ipython",
    "version": 3
   },
   "file_extension": ".py",
   "mimetype": "text/x-python",
   "name": "python",
   "nbconvert_exporter": "python",
   "pygments_lexer": "ipython3",
   "version": "3.10.13"
  }
 },
 "nbformat": 4,
 "nbformat_minor": 2
}
